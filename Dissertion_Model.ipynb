{
  "nbformat": 4,
  "nbformat_minor": 0,
  "metadata": {
    "colab": {
      "provenance": [],
      "authorship_tag": "ABX9TyOcp8ptwrHtZRHxev4DZKAY",
      "include_colab_link": true
    },
    "kernelspec": {
      "name": "python3",
      "display_name": "Python 3"
    },
    "language_info": {
      "name": "python"
    }
  },
  "cells": [
    {
      "cell_type": "markdown",
      "metadata": {
        "id": "view-in-github",
        "colab_type": "text"
      },
      "source": [
        "<a href=\"https://colab.research.google.com/github/muthvin/Predicting-application-failures/blob/main/Dissertion_Model.ipynb\" target=\"_parent\"><img src=\"https://colab.research.google.com/assets/colab-badge.svg\" alt=\"Open In Colab\"/></a>"
      ]
    },
    {
      "cell_type": "markdown",
      "source": [
        "Import required libararies"
      ],
      "metadata": {
        "id": "A7hqoa_rUqQm"
      }
    },
    {
      "cell_type": "code",
      "execution_count": 33,
      "metadata": {
        "id": "xOfaa_434oMW"
      },
      "outputs": [],
      "source": [
        "import pandas as pd\n",
        "import numpy as np\n",
        "# from sklearn import preprocessing\n",
        "import matplotlib.pyplot as plt \n",
        "plt.rc(\"font\", size=14)\n",
        "from sklearn.model_selection import train_test_split\n",
        "from sklearn.linear_model import LogisticRegression\n",
        "from sklearn.tree import DecisionTreeClassifier\n",
        "from sklearn.naive_bayes import GaussianNB\n",
        "from sklearn.metrics import confusion_matrix\n",
        "from sklearn import metrics\n",
        "import seaborn as sns\n",
        "sns.set(style=\"white\")\n",
        "sns.set(style=\"whitegrid\", color_codes=True)"
      ]
    },
    {
      "cell_type": "markdown",
      "source": [
        "Upload dataset"
      ],
      "metadata": {
        "id": "tvvG5FQMUvX-"
      }
    },
    {
      "cell_type": "code",
      "source": [
        "from google.colab import files\n",
        "\n",
        "uploaded = files.upload()\n",
        "\n",
        "for fn in uploaded.keys():\n",
        "  print('User uploaded file \"{name}\" with length {length} bytes'.format(\n",
        "      name=fn, length=len(uploaded[fn])))"
      ],
      "metadata": {
        "colab": {
          "base_uri": "https://localhost:8080/",
          "height": 91
        },
        "id": "BbbvfRAT5Lsh",
        "outputId": "cb4944de-30b5-4f23-852b-bc2b88203f73"
      },
      "execution_count": 2,
      "outputs": [
        {
          "output_type": "display_data",
          "data": {
            "text/plain": [
              "<IPython.core.display.HTML object>"
            ],
            "text/html": [
              "\n",
              "     <input type=\"file\" id=\"files-69e6097f-6ced-454c-b3ad-5c924e382527\" name=\"files[]\" multiple disabled\n",
              "        style=\"border:none\" />\n",
              "     <output id=\"result-69e6097f-6ced-454c-b3ad-5c924e382527\">\n",
              "      Upload widget is only available when the cell has been executed in the\n",
              "      current browser session. Please rerun this cell to enable.\n",
              "      </output>\n",
              "      <script>// Copyright 2017 Google LLC\n",
              "//\n",
              "// Licensed under the Apache License, Version 2.0 (the \"License\");\n",
              "// you may not use this file except in compliance with the License.\n",
              "// You may obtain a copy of the License at\n",
              "//\n",
              "//      http://www.apache.org/licenses/LICENSE-2.0\n",
              "//\n",
              "// Unless required by applicable law or agreed to in writing, software\n",
              "// distributed under the License is distributed on an \"AS IS\" BASIS,\n",
              "// WITHOUT WARRANTIES OR CONDITIONS OF ANY KIND, either express or implied.\n",
              "// See the License for the specific language governing permissions and\n",
              "// limitations under the License.\n",
              "\n",
              "/**\n",
              " * @fileoverview Helpers for google.colab Python module.\n",
              " */\n",
              "(function(scope) {\n",
              "function span(text, styleAttributes = {}) {\n",
              "  const element = document.createElement('span');\n",
              "  element.textContent = text;\n",
              "  for (const key of Object.keys(styleAttributes)) {\n",
              "    element.style[key] = styleAttributes[key];\n",
              "  }\n",
              "  return element;\n",
              "}\n",
              "\n",
              "// Max number of bytes which will be uploaded at a time.\n",
              "const MAX_PAYLOAD_SIZE = 100 * 1024;\n",
              "\n",
              "function _uploadFiles(inputId, outputId) {\n",
              "  const steps = uploadFilesStep(inputId, outputId);\n",
              "  const outputElement = document.getElementById(outputId);\n",
              "  // Cache steps on the outputElement to make it available for the next call\n",
              "  // to uploadFilesContinue from Python.\n",
              "  outputElement.steps = steps;\n",
              "\n",
              "  return _uploadFilesContinue(outputId);\n",
              "}\n",
              "\n",
              "// This is roughly an async generator (not supported in the browser yet),\n",
              "// where there are multiple asynchronous steps and the Python side is going\n",
              "// to poll for completion of each step.\n",
              "// This uses a Promise to block the python side on completion of each step,\n",
              "// then passes the result of the previous step as the input to the next step.\n",
              "function _uploadFilesContinue(outputId) {\n",
              "  const outputElement = document.getElementById(outputId);\n",
              "  const steps = outputElement.steps;\n",
              "\n",
              "  const next = steps.next(outputElement.lastPromiseValue);\n",
              "  return Promise.resolve(next.value.promise).then((value) => {\n",
              "    // Cache the last promise value to make it available to the next\n",
              "    // step of the generator.\n",
              "    outputElement.lastPromiseValue = value;\n",
              "    return next.value.response;\n",
              "  });\n",
              "}\n",
              "\n",
              "/**\n",
              " * Generator function which is called between each async step of the upload\n",
              " * process.\n",
              " * @param {string} inputId Element ID of the input file picker element.\n",
              " * @param {string} outputId Element ID of the output display.\n",
              " * @return {!Iterable<!Object>} Iterable of next steps.\n",
              " */\n",
              "function* uploadFilesStep(inputId, outputId) {\n",
              "  const inputElement = document.getElementById(inputId);\n",
              "  inputElement.disabled = false;\n",
              "\n",
              "  const outputElement = document.getElementById(outputId);\n",
              "  outputElement.innerHTML = '';\n",
              "\n",
              "  const pickedPromise = new Promise((resolve) => {\n",
              "    inputElement.addEventListener('change', (e) => {\n",
              "      resolve(e.target.files);\n",
              "    });\n",
              "  });\n",
              "\n",
              "  const cancel = document.createElement('button');\n",
              "  inputElement.parentElement.appendChild(cancel);\n",
              "  cancel.textContent = 'Cancel upload';\n",
              "  const cancelPromise = new Promise((resolve) => {\n",
              "    cancel.onclick = () => {\n",
              "      resolve(null);\n",
              "    };\n",
              "  });\n",
              "\n",
              "  // Wait for the user to pick the files.\n",
              "  const files = yield {\n",
              "    promise: Promise.race([pickedPromise, cancelPromise]),\n",
              "    response: {\n",
              "      action: 'starting',\n",
              "    }\n",
              "  };\n",
              "\n",
              "  cancel.remove();\n",
              "\n",
              "  // Disable the input element since further picks are not allowed.\n",
              "  inputElement.disabled = true;\n",
              "\n",
              "  if (!files) {\n",
              "    return {\n",
              "      response: {\n",
              "        action: 'complete',\n",
              "      }\n",
              "    };\n",
              "  }\n",
              "\n",
              "  for (const file of files) {\n",
              "    const li = document.createElement('li');\n",
              "    li.append(span(file.name, {fontWeight: 'bold'}));\n",
              "    li.append(span(\n",
              "        `(${file.type || 'n/a'}) - ${file.size} bytes, ` +\n",
              "        `last modified: ${\n",
              "            file.lastModifiedDate ? file.lastModifiedDate.toLocaleDateString() :\n",
              "                                    'n/a'} - `));\n",
              "    const percent = span('0% done');\n",
              "    li.appendChild(percent);\n",
              "\n",
              "    outputElement.appendChild(li);\n",
              "\n",
              "    const fileDataPromise = new Promise((resolve) => {\n",
              "      const reader = new FileReader();\n",
              "      reader.onload = (e) => {\n",
              "        resolve(e.target.result);\n",
              "      };\n",
              "      reader.readAsArrayBuffer(file);\n",
              "    });\n",
              "    // Wait for the data to be ready.\n",
              "    let fileData = yield {\n",
              "      promise: fileDataPromise,\n",
              "      response: {\n",
              "        action: 'continue',\n",
              "      }\n",
              "    };\n",
              "\n",
              "    // Use a chunked sending to avoid message size limits. See b/62115660.\n",
              "    let position = 0;\n",
              "    do {\n",
              "      const length = Math.min(fileData.byteLength - position, MAX_PAYLOAD_SIZE);\n",
              "      const chunk = new Uint8Array(fileData, position, length);\n",
              "      position += length;\n",
              "\n",
              "      const base64 = btoa(String.fromCharCode.apply(null, chunk));\n",
              "      yield {\n",
              "        response: {\n",
              "          action: 'append',\n",
              "          file: file.name,\n",
              "          data: base64,\n",
              "        },\n",
              "      };\n",
              "\n",
              "      let percentDone = fileData.byteLength === 0 ?\n",
              "          100 :\n",
              "          Math.round((position / fileData.byteLength) * 100);\n",
              "      percent.textContent = `${percentDone}% done`;\n",
              "\n",
              "    } while (position < fileData.byteLength);\n",
              "  }\n",
              "\n",
              "  // All done.\n",
              "  yield {\n",
              "    response: {\n",
              "      action: 'complete',\n",
              "    }\n",
              "  };\n",
              "}\n",
              "\n",
              "scope.google = scope.google || {};\n",
              "scope.google.colab = scope.google.colab || {};\n",
              "scope.google.colab._files = {\n",
              "  _uploadFiles,\n",
              "  _uploadFilesContinue,\n",
              "};\n",
              "})(self);\n",
              "</script> "
            ]
          },
          "metadata": {}
        },
        {
          "output_type": "stream",
          "name": "stdout",
          "text": [
            "Saving Home.csv to Home.csv\n",
            "User uploaded file \"Home.csv\" with length 107285 bytes\n"
          ]
        }
      ]
    },
    {
      "cell_type": "markdown",
      "source": [
        "Create dataframe with uploaded dataset"
      ],
      "metadata": {
        "id": "SHRZ4vMFU572"
      }
    },
    {
      "cell_type": "code",
      "source": [
        "df_home = pd.read_csv('Home.csv')"
      ],
      "metadata": {
        "id": "BC3bQKJ15MUG"
      },
      "execution_count": 3,
      "outputs": []
    },
    {
      "cell_type": "code",
      "source": [
        "df_home.head()"
      ],
      "metadata": {
        "colab": {
          "base_uri": "https://localhost:8080/",
          "height": 206
        },
        "id": "PXHLdA0n5aiR",
        "outputId": "c3316f4a-e3e1-430f-9fc4-beca8ec5cc35"
      },
      "execution_count": 4,
      "outputs": [
        {
          "output_type": "execute_result",
          "data": {
            "text/plain": [
              "   Page  Bytes_Sent  Bytes_Received  Throughput  Response_time  No_of_logic  \\\n",
              "0  Home         415              72          36           23.0            0   \n",
              "1  Home         421              72          54           14.0            0   \n",
              "2  Home         420              72          43           34.0            0   \n",
              "3  Home         429              72          51           12.0            0   \n",
              "4  Home         424              74          39           14.0            0   \n",
              "\n",
              "   DB_Call  Category  \n",
              "0        0         0  \n",
              "1        0         1  \n",
              "2        0         1  \n",
              "3        0         0  \n",
              "4        0         0  "
            ],
            "text/html": [
              "\n",
              "  <div id=\"df-22986bcd-5190-4d3f-944f-d15e7b470b7f\">\n",
              "    <div class=\"colab-df-container\">\n",
              "      <div>\n",
              "<style scoped>\n",
              "    .dataframe tbody tr th:only-of-type {\n",
              "        vertical-align: middle;\n",
              "    }\n",
              "\n",
              "    .dataframe tbody tr th {\n",
              "        vertical-align: top;\n",
              "    }\n",
              "\n",
              "    .dataframe thead th {\n",
              "        text-align: right;\n",
              "    }\n",
              "</style>\n",
              "<table border=\"1\" class=\"dataframe\">\n",
              "  <thead>\n",
              "    <tr style=\"text-align: right;\">\n",
              "      <th></th>\n",
              "      <th>Page</th>\n",
              "      <th>Bytes_Sent</th>\n",
              "      <th>Bytes_Received</th>\n",
              "      <th>Throughput</th>\n",
              "      <th>Response_time</th>\n",
              "      <th>No_of_logic</th>\n",
              "      <th>DB_Call</th>\n",
              "      <th>Category</th>\n",
              "    </tr>\n",
              "  </thead>\n",
              "  <tbody>\n",
              "    <tr>\n",
              "      <th>0</th>\n",
              "      <td>Home</td>\n",
              "      <td>415</td>\n",
              "      <td>72</td>\n",
              "      <td>36</td>\n",
              "      <td>23.0</td>\n",
              "      <td>0</td>\n",
              "      <td>0</td>\n",
              "      <td>0</td>\n",
              "    </tr>\n",
              "    <tr>\n",
              "      <th>1</th>\n",
              "      <td>Home</td>\n",
              "      <td>421</td>\n",
              "      <td>72</td>\n",
              "      <td>54</td>\n",
              "      <td>14.0</td>\n",
              "      <td>0</td>\n",
              "      <td>0</td>\n",
              "      <td>1</td>\n",
              "    </tr>\n",
              "    <tr>\n",
              "      <th>2</th>\n",
              "      <td>Home</td>\n",
              "      <td>420</td>\n",
              "      <td>72</td>\n",
              "      <td>43</td>\n",
              "      <td>34.0</td>\n",
              "      <td>0</td>\n",
              "      <td>0</td>\n",
              "      <td>1</td>\n",
              "    </tr>\n",
              "    <tr>\n",
              "      <th>3</th>\n",
              "      <td>Home</td>\n",
              "      <td>429</td>\n",
              "      <td>72</td>\n",
              "      <td>51</td>\n",
              "      <td>12.0</td>\n",
              "      <td>0</td>\n",
              "      <td>0</td>\n",
              "      <td>0</td>\n",
              "    </tr>\n",
              "    <tr>\n",
              "      <th>4</th>\n",
              "      <td>Home</td>\n",
              "      <td>424</td>\n",
              "      <td>74</td>\n",
              "      <td>39</td>\n",
              "      <td>14.0</td>\n",
              "      <td>0</td>\n",
              "      <td>0</td>\n",
              "      <td>0</td>\n",
              "    </tr>\n",
              "  </tbody>\n",
              "</table>\n",
              "</div>\n",
              "      <button class=\"colab-df-convert\" onclick=\"convertToInteractive('df-22986bcd-5190-4d3f-944f-d15e7b470b7f')\"\n",
              "              title=\"Convert this dataframe to an interactive table.\"\n",
              "              style=\"display:none;\">\n",
              "        \n",
              "  <svg xmlns=\"http://www.w3.org/2000/svg\" height=\"24px\"viewBox=\"0 0 24 24\"\n",
              "       width=\"24px\">\n",
              "    <path d=\"M0 0h24v24H0V0z\" fill=\"none\"/>\n",
              "    <path d=\"M18.56 5.44l.94 2.06.94-2.06 2.06-.94-2.06-.94-.94-2.06-.94 2.06-2.06.94zm-11 1L8.5 8.5l.94-2.06 2.06-.94-2.06-.94L8.5 2.5l-.94 2.06-2.06.94zm10 10l.94 2.06.94-2.06 2.06-.94-2.06-.94-.94-2.06-.94 2.06-2.06.94z\"/><path d=\"M17.41 7.96l-1.37-1.37c-.4-.4-.92-.59-1.43-.59-.52 0-1.04.2-1.43.59L10.3 9.45l-7.72 7.72c-.78.78-.78 2.05 0 2.83L4 21.41c.39.39.9.59 1.41.59.51 0 1.02-.2 1.41-.59l7.78-7.78 2.81-2.81c.8-.78.8-2.07 0-2.86zM5.41 20L4 18.59l7.72-7.72 1.47 1.35L5.41 20z\"/>\n",
              "  </svg>\n",
              "      </button>\n",
              "      \n",
              "  <style>\n",
              "    .colab-df-container {\n",
              "      display:flex;\n",
              "      flex-wrap:wrap;\n",
              "      gap: 12px;\n",
              "    }\n",
              "\n",
              "    .colab-df-convert {\n",
              "      background-color: #E8F0FE;\n",
              "      border: none;\n",
              "      border-radius: 50%;\n",
              "      cursor: pointer;\n",
              "      display: none;\n",
              "      fill: #1967D2;\n",
              "      height: 32px;\n",
              "      padding: 0 0 0 0;\n",
              "      width: 32px;\n",
              "    }\n",
              "\n",
              "    .colab-df-convert:hover {\n",
              "      background-color: #E2EBFA;\n",
              "      box-shadow: 0px 1px 2px rgba(60, 64, 67, 0.3), 0px 1px 3px 1px rgba(60, 64, 67, 0.15);\n",
              "      fill: #174EA6;\n",
              "    }\n",
              "\n",
              "    [theme=dark] .colab-df-convert {\n",
              "      background-color: #3B4455;\n",
              "      fill: #D2E3FC;\n",
              "    }\n",
              "\n",
              "    [theme=dark] .colab-df-convert:hover {\n",
              "      background-color: #434B5C;\n",
              "      box-shadow: 0px 1px 3px 1px rgba(0, 0, 0, 0.15);\n",
              "      filter: drop-shadow(0px 1px 2px rgba(0, 0, 0, 0.3));\n",
              "      fill: #FFFFFF;\n",
              "    }\n",
              "  </style>\n",
              "\n",
              "      <script>\n",
              "        const buttonEl =\n",
              "          document.querySelector('#df-22986bcd-5190-4d3f-944f-d15e7b470b7f button.colab-df-convert');\n",
              "        buttonEl.style.display =\n",
              "          google.colab.kernel.accessAllowed ? 'block' : 'none';\n",
              "\n",
              "        async function convertToInteractive(key) {\n",
              "          const element = document.querySelector('#df-22986bcd-5190-4d3f-944f-d15e7b470b7f');\n",
              "          const dataTable =\n",
              "            await google.colab.kernel.invokeFunction('convertToInteractive',\n",
              "                                                     [key], {});\n",
              "          if (!dataTable) return;\n",
              "\n",
              "          const docLinkHtml = 'Like what you see? Visit the ' +\n",
              "            '<a target=\"_blank\" href=https://colab.research.google.com/notebooks/data_table.ipynb>data table notebook</a>'\n",
              "            + ' to learn more about interactive tables.';\n",
              "          element.innerHTML = '';\n",
              "          dataTable['output_type'] = 'display_data';\n",
              "          await google.colab.output.renderOutput(dataTable, element);\n",
              "          const docLink = document.createElement('div');\n",
              "          docLink.innerHTML = docLinkHtml;\n",
              "          element.appendChild(docLink);\n",
              "        }\n",
              "      </script>\n",
              "    </div>\n",
              "  </div>\n",
              "  "
            ]
          },
          "metadata": {},
          "execution_count": 4
        }
      ]
    },
    {
      "cell_type": "code",
      "source": [
        "df_home.shape"
      ],
      "metadata": {
        "colab": {
          "base_uri": "https://localhost:8080/"
        },
        "id": "g560hCNdZqaB",
        "outputId": "9cf00d9c-33fa-484d-d26e-832b68f03125"
      },
      "execution_count": 5,
      "outputs": [
        {
          "output_type": "execute_result",
          "data": {
            "text/plain": [
              "(4129, 8)"
            ]
          },
          "metadata": {},
          "execution_count": 5
        }
      ]
    },
    {
      "cell_type": "markdown",
      "source": [
        "Data Preprocessing for categorical columns"
      ],
      "metadata": {
        "id": "2_3JcTI2VF0i"
      }
    },
    {
      "cell_type": "code",
      "source": [
        "# Creating dummy variables:\n",
        "df_page = pd.get_dummies(df_home, columns=['Page'])\n",
        "df_page.head()"
      ],
      "metadata": {
        "colab": {
          "base_uri": "https://localhost:8080/",
          "height": 206
        },
        "id": "3AIlVWQwOBet",
        "outputId": "2f6ec8b8-9315-45d1-9ed4-aed229941986"
      },
      "execution_count": 6,
      "outputs": [
        {
          "output_type": "execute_result",
          "data": {
            "text/plain": [
              "   Bytes_Sent  Bytes_Received  Throughput  Response_time  No_of_logic  \\\n",
              "0         415              72          36           23.0            0   \n",
              "1         421              72          54           14.0            0   \n",
              "2         420              72          43           34.0            0   \n",
              "3         429              72          51           12.0            0   \n",
              "4         424              74          39           14.0            0   \n",
              "\n",
              "   DB_Call  Category  Page_Home  Page_View1  Page_View2  Page_View3  \\\n",
              "0        0         0          1           0           0           0   \n",
              "1        0         1          1           0           0           0   \n",
              "2        0         1          1           0           0           0   \n",
              "3        0         0          1           0           0           0   \n",
              "4        0         0          1           0           0           0   \n",
              "\n",
              "   Page_View4  Page_View5  \n",
              "0           0           0  \n",
              "1           0           0  \n",
              "2           0           0  \n",
              "3           0           0  \n",
              "4           0           0  "
            ],
            "text/html": [
              "\n",
              "  <div id=\"df-01aeedb6-9b26-4e83-9cf8-6b9ac0849b8c\">\n",
              "    <div class=\"colab-df-container\">\n",
              "      <div>\n",
              "<style scoped>\n",
              "    .dataframe tbody tr th:only-of-type {\n",
              "        vertical-align: middle;\n",
              "    }\n",
              "\n",
              "    .dataframe tbody tr th {\n",
              "        vertical-align: top;\n",
              "    }\n",
              "\n",
              "    .dataframe thead th {\n",
              "        text-align: right;\n",
              "    }\n",
              "</style>\n",
              "<table border=\"1\" class=\"dataframe\">\n",
              "  <thead>\n",
              "    <tr style=\"text-align: right;\">\n",
              "      <th></th>\n",
              "      <th>Bytes_Sent</th>\n",
              "      <th>Bytes_Received</th>\n",
              "      <th>Throughput</th>\n",
              "      <th>Response_time</th>\n",
              "      <th>No_of_logic</th>\n",
              "      <th>DB_Call</th>\n",
              "      <th>Category</th>\n",
              "      <th>Page_Home</th>\n",
              "      <th>Page_View1</th>\n",
              "      <th>Page_View2</th>\n",
              "      <th>Page_View3</th>\n",
              "      <th>Page_View4</th>\n",
              "      <th>Page_View5</th>\n",
              "    </tr>\n",
              "  </thead>\n",
              "  <tbody>\n",
              "    <tr>\n",
              "      <th>0</th>\n",
              "      <td>415</td>\n",
              "      <td>72</td>\n",
              "      <td>36</td>\n",
              "      <td>23.0</td>\n",
              "      <td>0</td>\n",
              "      <td>0</td>\n",
              "      <td>0</td>\n",
              "      <td>1</td>\n",
              "      <td>0</td>\n",
              "      <td>0</td>\n",
              "      <td>0</td>\n",
              "      <td>0</td>\n",
              "      <td>0</td>\n",
              "    </tr>\n",
              "    <tr>\n",
              "      <th>1</th>\n",
              "      <td>421</td>\n",
              "      <td>72</td>\n",
              "      <td>54</td>\n",
              "      <td>14.0</td>\n",
              "      <td>0</td>\n",
              "      <td>0</td>\n",
              "      <td>1</td>\n",
              "      <td>1</td>\n",
              "      <td>0</td>\n",
              "      <td>0</td>\n",
              "      <td>0</td>\n",
              "      <td>0</td>\n",
              "      <td>0</td>\n",
              "    </tr>\n",
              "    <tr>\n",
              "      <th>2</th>\n",
              "      <td>420</td>\n",
              "      <td>72</td>\n",
              "      <td>43</td>\n",
              "      <td>34.0</td>\n",
              "      <td>0</td>\n",
              "      <td>0</td>\n",
              "      <td>1</td>\n",
              "      <td>1</td>\n",
              "      <td>0</td>\n",
              "      <td>0</td>\n",
              "      <td>0</td>\n",
              "      <td>0</td>\n",
              "      <td>0</td>\n",
              "    </tr>\n",
              "    <tr>\n",
              "      <th>3</th>\n",
              "      <td>429</td>\n",
              "      <td>72</td>\n",
              "      <td>51</td>\n",
              "      <td>12.0</td>\n",
              "      <td>0</td>\n",
              "      <td>0</td>\n",
              "      <td>0</td>\n",
              "      <td>1</td>\n",
              "      <td>0</td>\n",
              "      <td>0</td>\n",
              "      <td>0</td>\n",
              "      <td>0</td>\n",
              "      <td>0</td>\n",
              "    </tr>\n",
              "    <tr>\n",
              "      <th>4</th>\n",
              "      <td>424</td>\n",
              "      <td>74</td>\n",
              "      <td>39</td>\n",
              "      <td>14.0</td>\n",
              "      <td>0</td>\n",
              "      <td>0</td>\n",
              "      <td>0</td>\n",
              "      <td>1</td>\n",
              "      <td>0</td>\n",
              "      <td>0</td>\n",
              "      <td>0</td>\n",
              "      <td>0</td>\n",
              "      <td>0</td>\n",
              "    </tr>\n",
              "  </tbody>\n",
              "</table>\n",
              "</div>\n",
              "      <button class=\"colab-df-convert\" onclick=\"convertToInteractive('df-01aeedb6-9b26-4e83-9cf8-6b9ac0849b8c')\"\n",
              "              title=\"Convert this dataframe to an interactive table.\"\n",
              "              style=\"display:none;\">\n",
              "        \n",
              "  <svg xmlns=\"http://www.w3.org/2000/svg\" height=\"24px\"viewBox=\"0 0 24 24\"\n",
              "       width=\"24px\">\n",
              "    <path d=\"M0 0h24v24H0V0z\" fill=\"none\"/>\n",
              "    <path d=\"M18.56 5.44l.94 2.06.94-2.06 2.06-.94-2.06-.94-.94-2.06-.94 2.06-2.06.94zm-11 1L8.5 8.5l.94-2.06 2.06-.94-2.06-.94L8.5 2.5l-.94 2.06-2.06.94zm10 10l.94 2.06.94-2.06 2.06-.94-2.06-.94-.94-2.06-.94 2.06-2.06.94z\"/><path d=\"M17.41 7.96l-1.37-1.37c-.4-.4-.92-.59-1.43-.59-.52 0-1.04.2-1.43.59L10.3 9.45l-7.72 7.72c-.78.78-.78 2.05 0 2.83L4 21.41c.39.39.9.59 1.41.59.51 0 1.02-.2 1.41-.59l7.78-7.78 2.81-2.81c.8-.78.8-2.07 0-2.86zM5.41 20L4 18.59l7.72-7.72 1.47 1.35L5.41 20z\"/>\n",
              "  </svg>\n",
              "      </button>\n",
              "      \n",
              "  <style>\n",
              "    .colab-df-container {\n",
              "      display:flex;\n",
              "      flex-wrap:wrap;\n",
              "      gap: 12px;\n",
              "    }\n",
              "\n",
              "    .colab-df-convert {\n",
              "      background-color: #E8F0FE;\n",
              "      border: none;\n",
              "      border-radius: 50%;\n",
              "      cursor: pointer;\n",
              "      display: none;\n",
              "      fill: #1967D2;\n",
              "      height: 32px;\n",
              "      padding: 0 0 0 0;\n",
              "      width: 32px;\n",
              "    }\n",
              "\n",
              "    .colab-df-convert:hover {\n",
              "      background-color: #E2EBFA;\n",
              "      box-shadow: 0px 1px 2px rgba(60, 64, 67, 0.3), 0px 1px 3px 1px rgba(60, 64, 67, 0.15);\n",
              "      fill: #174EA6;\n",
              "    }\n",
              "\n",
              "    [theme=dark] .colab-df-convert {\n",
              "      background-color: #3B4455;\n",
              "      fill: #D2E3FC;\n",
              "    }\n",
              "\n",
              "    [theme=dark] .colab-df-convert:hover {\n",
              "      background-color: #434B5C;\n",
              "      box-shadow: 0px 1px 3px 1px rgba(0, 0, 0, 0.15);\n",
              "      filter: drop-shadow(0px 1px 2px rgba(0, 0, 0, 0.3));\n",
              "      fill: #FFFFFF;\n",
              "    }\n",
              "  </style>\n",
              "\n",
              "      <script>\n",
              "        const buttonEl =\n",
              "          document.querySelector('#df-01aeedb6-9b26-4e83-9cf8-6b9ac0849b8c button.colab-df-convert');\n",
              "        buttonEl.style.display =\n",
              "          google.colab.kernel.accessAllowed ? 'block' : 'none';\n",
              "\n",
              "        async function convertToInteractive(key) {\n",
              "          const element = document.querySelector('#df-01aeedb6-9b26-4e83-9cf8-6b9ac0849b8c');\n",
              "          const dataTable =\n",
              "            await google.colab.kernel.invokeFunction('convertToInteractive',\n",
              "                                                     [key], {});\n",
              "          if (!dataTable) return;\n",
              "\n",
              "          const docLinkHtml = 'Like what you see? Visit the ' +\n",
              "            '<a target=\"_blank\" href=https://colab.research.google.com/notebooks/data_table.ipynb>data table notebook</a>'\n",
              "            + ' to learn more about interactive tables.';\n",
              "          element.innerHTML = '';\n",
              "          dataTable['output_type'] = 'display_data';\n",
              "          await google.colab.output.renderOutput(dataTable, element);\n",
              "          const docLink = document.createElement('div');\n",
              "          docLink.innerHTML = docLinkHtml;\n",
              "          element.appendChild(docLink);\n",
              "        }\n",
              "      </script>\n",
              "    </div>\n",
              "  </div>\n",
              "  "
            ]
          },
          "metadata": {},
          "execution_count": 6
        }
      ]
    },
    {
      "cell_type": "code",
      "source": [
        "df_page.shape"
      ],
      "metadata": {
        "colab": {
          "base_uri": "https://localhost:8080/"
        },
        "id": "aRHtSEKfVWOA",
        "outputId": "f3758cef-ca61-4508-d2f5-a5382e2e028d"
      },
      "execution_count": 7,
      "outputs": [
        {
          "output_type": "execute_result",
          "data": {
            "text/plain": [
              "(4129, 13)"
            ]
          },
          "metadata": {},
          "execution_count": 7
        }
      ]
    },
    {
      "cell_type": "markdown",
      "source": [
        "#Exploratory Data Analysis"
      ],
      "metadata": {
        "id": "FRbqFk_sSooA"
      }
    },
    {
      "cell_type": "code",
      "source": [
        "%matplotlib inline\n",
        "pd.crosstab(df_home.Page,df_home.Category).plot(kind='bar')\n",
        "plt.title('Crash Frequency for Home Page')\n",
        "plt.xlabel('Category')\n",
        "plt.ylabel('Frequency of Crash')\n",
        "plt.savefig('Crash_Freq')"
      ],
      "metadata": {
        "id": "sN3p6HJl5ckp",
        "colab": {
          "base_uri": "https://localhost:8080/",
          "height": 324
        },
        "outputId": "a516acfb-0c5a-48f1-f255-83951a15b3da"
      },
      "execution_count": 8,
      "outputs": [
        {
          "output_type": "display_data",
          "data": {
            "text/plain": [
              "<Figure size 432x288 with 1 Axes>"
            ],
            "image/png": "[encoded data removed]"
          },
          "metadata": {
            "needs_background": "light"
          }
        }
      ]
    },
    {
      "cell_type": "code",
      "source": [
        "# sns.pairplot(df_home)"
      ],
      "metadata": {
        "id": "QL02bjpSRyo3"
      },
      "execution_count": null,
      "outputs": []
    },
    {
      "cell_type": "code",
      "source": [
        "sns.heatmap(df_home.corr(), annot=True)"
      ],
      "metadata": {
        "id": "DOpgs62DSX4k",
        "colab": {
          "base_uri": "https://localhost:8080/",
          "height": 367
        },
        "outputId": "19eca5f0-4f8d-4ae9-91c2-1c6ee2c3980b"
      },
      "execution_count": 12,
      "outputs": [
        {
          "output_type": "execute_result",
          "data": {
            "text/plain": [
              "<matplotlib.axes._subplots.AxesSubplot at 0x7faca2583ca0>"
            ]
          },
          "metadata": {},
          "execution_count": 12
        },
        {
          "output_type": "display_data",
          "data": {
            "text/plain": [
              "<Figure size 432x288 with 2 Axes>"
            ],
            "image/png": "[encoded data removed]"
          },
          "metadata": {
            "needs_background": "light"
          }
        }
      ]
    },
    {
      "cell_type": "code",
      "source": [
        "sns.distplot(df_home['Category'])"
      ],
      "metadata": {
        "id": "t5h5HdM4Sflw",
        "colab": {
          "base_uri": "https://localhost:8080/",
          "height": 360
        },
        "outputId": "44ed5a24-ca76-418a-ebd7-c9e6d361f098"
      },
      "execution_count": 13,
      "outputs": [
        {
          "output_type": "stream",
          "name": "stderr",
          "text": [
            "/usr/local/lib/python3.8/dist-packages/seaborn/distributions.py:2619: FutureWarning: `distplot` is a deprecated function and will be removed in a future version. Please adapt your code to use either `displot` (a figure-level function with similar flexibility) or `histplot` (an axes-level function for histograms).\n",
            "  warnings.warn(msg, FutureWarning)\n"
          ]
        },
        {
          "output_type": "execute_result",
          "data": {
            "text/plain": [
              "<matplotlib.axes._subplots.AxesSubplot at 0x7fac9fd12d30>"
            ]
          },
          "metadata": {},
          "execution_count": 13
        },
        {
          "output_type": "display_data",
          "data": {
            "text/plain": [
              "<Figure size 432x288 with 1 Axes>"
            ],
            "image/png": "[encoded data removed]"
          },
          "metadata": {
            "needs_background": "light"
          }
        }
      ]
    },
    {
      "cell_type": "markdown",
      "source": [
        "Split data into train and test"
      ],
      "metadata": {
        "id": "fSAoXCVtRaAn"
      }
    },
    {
      "cell_type": "code",
      "source": [
        "# Split the data into training and testing\n",
        "X = df_page.drop(['Category'], axis=1)\n",
        "y = df_page['Category']\n",
        "# X_train, X_test, y_train, y_test = train_test_split(X, y, test_size=0.2, random_state=101)"
      ],
      "metadata": {
        "id": "EKDi1-Io999P"
      },
      "execution_count": 9,
      "outputs": []
    },
    {
      "cell_type": "code",
      "source": [
        "X_train.shape, X_test.shape"
      ],
      "metadata": {
        "colab": {
          "base_uri": "https://localhost:8080/"
        },
        "id": "yJSXp-puX5b_",
        "outputId": "d7e7a7f9-ba29-4163-9a14-e28d5d28914c"
      },
      "execution_count": 10,
      "outputs": [
        {
          "output_type": "execute_result",
          "data": {
            "text/plain": [
              "((3303, 12), (826, 12))"
            ]
          },
          "metadata": {},
          "execution_count": 10
        }
      ]
    },
    {
      "cell_type": "code",
      "source": [
        "y_train.shape, y_test.shape"
      ],
      "metadata": {
        "colab": {
          "base_uri": "https://localhost:8080/"
        },
        "id": "8plPu_bdueQH",
        "outputId": "1e54fd89-8c83-4744-cf8d-8c22ed21486f"
      },
      "execution_count": 11,
      "outputs": [
        {
          "output_type": "execute_result",
          "data": {
            "text/plain": [
              "((3303,), (826,))"
            ]
          },
          "metadata": {},
          "execution_count": 11
        }
      ]
    },
    {
      "cell_type": "code",
      "source": [
        "X_train.head()"
      ],
      "metadata": {
        "colab": {
          "base_uri": "https://localhost:8080/",
          "height": 206
        },
        "id": "jdWgCpJtN4G8",
        "outputId": "7496ec67-e00b-45f3-d9ba-d7d43c444eb9"
      },
      "execution_count": 12,
      "outputs": [
        {
          "output_type": "execute_result",
          "data": {
            "text/plain": [
              "      Bytes_Sent  Bytes_Received  Throughput  Response_time  No_of_logic  \\\n",
              "180          426              78          61           29.0            0   \n",
              "3239         421             658          39            1.0            3   \n",
              "38           418              73          91           15.0            0   \n",
              "372          428              77          81           15.0            0   \n",
              "2754         427             664          93            3.0            3   \n",
              "\n",
              "      DB_Call  Page_Home  Page_View1  Page_View2  Page_View3  Page_View4  \\\n",
              "180         0          1           0           0           0           0   \n",
              "3239        1          0           0           0           0           1   \n",
              "38          0          1           0           0           0           0   \n",
              "372         0          1           0           0           0           0   \n",
              "2754        1          0           0           0           0           1   \n",
              "\n",
              "      Page_View5  \n",
              "180            0  \n",
              "3239           0  \n",
              "38             0  \n",
              "372            0  \n",
              "2754           0  "
            ],
            "text/html": [
              "\n",
              "  <div id=\"df-591551d4-4e63-4f80-867d-ed9212b27474\">\n",
              "    <div class=\"colab-df-container\">\n",
              "      <div>\n",
              "<style scoped>\n",
              "    .dataframe tbody tr th:only-of-type {\n",
              "        vertical-align: middle;\n",
              "    }\n",
              "\n",
              "    .dataframe tbody tr th {\n",
              "        vertical-align: top;\n",
              "    }\n",
              "\n",
              "    .dataframe thead th {\n",
              "        text-align: right;\n",
              "    }\n",
              "</style>\n",
              "<table border=\"1\" class=\"dataframe\">\n",
              "  <thead>\n",
              "    <tr style=\"text-align: right;\">\n",
              "      <th></th>\n",
              "      <th>Bytes_Sent</th>\n",
              "      <th>Bytes_Received</th>\n",
              "      <th>Throughput</th>\n",
              "      <th>Response_time</th>\n",
              "      <th>No_of_logic</th>\n",
              "      <th>DB_Call</th>\n",
              "      <th>Page_Home</th>\n",
              "      <th>Page_View1</th>\n",
              "      <th>Page_View2</th>\n",
              "      <th>Page_View3</th>\n",
              "      <th>Page_View4</th>\n",
              "      <th>Page_View5</th>\n",
              "    </tr>\n",
              "  </thead>\n",
              "  <tbody>\n",
              "    <tr>\n",
              "      <th>180</th>\n",
              "      <td>426</td>\n",
              "      <td>78</td>\n",
              "      <td>61</td>\n",
              "      <td>29.0</td>\n",
              "      <td>0</td>\n",
              "      <td>0</td>\n",
              "      <td>1</td>\n",
              "      <td>0</td>\n",
              "      <td>0</td>\n",
              "      <td>0</td>\n",
              "      <td>0</td>\n",
              "      <td>0</td>\n",
              "    </tr>\n",
              "    <tr>\n",
              "      <th>3239</th>\n",
              "      <td>421</td>\n",
              "      <td>658</td>\n",
              "      <td>39</td>\n",
              "      <td>1.0</td>\n",
              "      <td>3</td>\n",
              "      <td>1</td>\n",
              "      <td>0</td>\n",
              "      <td>0</td>\n",
              "      <td>0</td>\n",
              "      <td>0</td>\n",
              "      <td>1</td>\n",
              "      <td>0</td>\n",
              "    </tr>\n",
              "    <tr>\n",
              "      <th>38</th>\n",
              "      <td>418</td>\n",
              "      <td>73</td>\n",
              "      <td>91</td>\n",
              "      <td>15.0</td>\n",
              "      <td>0</td>\n",
              "      <td>0</td>\n",
              "      <td>1</td>\n",
              "      <td>0</td>\n",
              "      <td>0</td>\n",
              "      <td>0</td>\n",
              "      <td>0</td>\n",
              "      <td>0</td>\n",
              "    </tr>\n",
              "    <tr>\n",
              "      <th>372</th>\n",
              "      <td>428</td>\n",
              "      <td>77</td>\n",
              "      <td>81</td>\n",
              "      <td>15.0</td>\n",
              "      <td>0</td>\n",
              "      <td>0</td>\n",
              "      <td>1</td>\n",
              "      <td>0</td>\n",
              "      <td>0</td>\n",
              "      <td>0</td>\n",
              "      <td>0</td>\n",
              "      <td>0</td>\n",
              "    </tr>\n",
              "    <tr>\n",
              "      <th>2754</th>\n",
              "      <td>427</td>\n",
              "      <td>664</td>\n",
              "      <td>93</td>\n",
              "      <td>3.0</td>\n",
              "      <td>3</td>\n",
              "      <td>1</td>\n",
              "      <td>0</td>\n",
              "      <td>0</td>\n",
              "      <td>0</td>\n",
              "      <td>0</td>\n",
              "      <td>1</td>\n",
              "      <td>0</td>\n",
              "    </tr>\n",
              "  </tbody>\n",
              "</table>\n",
              "</div>\n",
              "      <button class=\"colab-df-convert\" onclick=\"convertToInteractive('df-591551d4-4e63-4f80-867d-ed9212b27474')\"\n",
              "              title=\"Convert this dataframe to an interactive table.\"\n",
              "              style=\"display:none;\">\n",
              "        \n",
              "  <svg xmlns=\"http://www.w3.org/2000/svg\" height=\"24px\"viewBox=\"0 0 24 24\"\n",
              "       width=\"24px\">\n",
              "    <path d=\"M0 0h24v24H0V0z\" fill=\"none\"/>\n",
              "    <path d=\"M18.56 5.44l.94 2.06.94-2.06 2.06-.94-2.06-.94-.94-2.06-.94 2.06-2.06.94zm-11 1L8.5 8.5l.94-2.06 2.06-.94-2.06-.94L8.5 2.5l-.94 2.06-2.06.94zm10 10l.94 2.06.94-2.06 2.06-.94-2.06-.94-.94-2.06-.94 2.06-2.06.94z\"/><path d=\"M17.41 7.96l-1.37-1.37c-.4-.4-.92-.59-1.43-.59-.52 0-1.04.2-1.43.59L10.3 9.45l-7.72 7.72c-.78.78-.78 2.05 0 2.83L4 21.41c.39.39.9.59 1.41.59.51 0 1.02-.2 1.41-.59l7.78-7.78 2.81-2.81c.8-.78.8-2.07 0-2.86zM5.41 20L4 18.59l7.72-7.72 1.47 1.35L5.41 20z\"/>\n",
              "  </svg>\n",
              "      </button>\n",
              "      \n",
              "  <style>\n",
              "    .colab-df-container {\n",
              "      display:flex;\n",
              "      flex-wrap:wrap;\n",
              "      gap: 12px;\n",
              "    }\n",
              "\n",
              "    .colab-df-convert {\n",
              "      background-color: #E8F0FE;\n",
              "      border: none;\n",
              "      border-radius: 50%;\n",
              "      cursor: pointer;\n",
              "      display: none;\n",
              "      fill: #1967D2;\n",
              "      height: 32px;\n",
              "      padding: 0 0 0 0;\n",
              "      width: 32px;\n",
              "    }\n",
              "\n",
              "    .colab-df-convert:hover {\n",
              "      background-color: #E2EBFA;\n",
              "      box-shadow: 0px 1px 2px rgba(60, 64, 67, 0.3), 0px 1px 3px 1px rgba(60, 64, 67, 0.15);\n",
              "      fill: #174EA6;\n",
              "    }\n",
              "\n",
              "    [theme=dark] .colab-df-convert {\n",
              "      background-color: #3B4455;\n",
              "      fill: #D2E3FC;\n",
              "    }\n",
              "\n",
              "    [theme=dark] .colab-df-convert:hover {\n",
              "      background-color: #434B5C;\n",
              "      box-shadow: 0px 1px 3px 1px rgba(0, 0, 0, 0.15);\n",
              "      filter: drop-shadow(0px 1px 2px rgba(0, 0, 0, 0.3));\n",
              "      fill: #FFFFFF;\n",
              "    }\n",
              "  </style>\n",
              "\n",
              "      <script>\n",
              "        const buttonEl =\n",
              "          document.querySelector('#df-591551d4-4e63-4f80-867d-ed9212b27474 button.colab-df-convert');\n",
              "        buttonEl.style.display =\n",
              "          google.colab.kernel.accessAllowed ? 'block' : 'none';\n",
              "\n",
              "        async function convertToInteractive(key) {\n",
              "          const element = document.querySelector('#df-591551d4-4e63-4f80-867d-ed9212b27474');\n",
              "          const dataTable =\n",
              "            await google.colab.kernel.invokeFunction('convertToInteractive',\n",
              "                                                     [key], {});\n",
              "          if (!dataTable) return;\n",
              "\n",
              "          const docLinkHtml = 'Like what you see? Visit the ' +\n",
              "            '<a target=\"_blank\" href=https://colab.research.google.com/notebooks/data_table.ipynb>data table notebook</a>'\n",
              "            + ' to learn more about interactive tables.';\n",
              "          element.innerHTML = '';\n",
              "          dataTable['output_type'] = 'display_data';\n",
              "          await google.colab.output.renderOutput(dataTable, element);\n",
              "          const docLink = document.createElement('div');\n",
              "          docLink.innerHTML = docLinkHtml;\n",
              "          element.appendChild(docLink);\n",
              "        }\n",
              "      </script>\n",
              "    </div>\n",
              "  </div>\n",
              "  "
            ]
          },
          "metadata": {},
          "execution_count": 12
        }
      ]
    },
    {
      "cell_type": "code",
      "source": [
        "from sklearn.feature_selection import SelectKBest\n",
        "from sklearn.feature_selection import chi2\n",
        "\n",
        "X_cat = X.astype(int)\n",
        "\n",
        "chi2_features = SelectKBest(chi2, k = 3)\n",
        "X_kbest_features = chi2_features.fit_transform(X_cat, y)\n",
        "print('Original feature number:', X_cat.shape[1])\n",
        "print('Reduced feature number:', X_kbest_features.shape[1])"
      ],
      "metadata": {
        "colab": {
          "base_uri": "https://localhost:8080/"
        },
        "id": "Lv5lM8bBHt3r",
        "outputId": "29c742c2-6bef-4d6e-aec7-68889a77e5b3"
      },
      "execution_count": 18,
      "outputs": [
        {
          "output_type": "stream",
          "name": "stdout",
          "text": [
            "Original feature number: 12\n",
            "Reduced feature number: 3\n"
          ]
        }
      ]
    },
    {
      "cell_type": "code",
      "source": [
        "X_kbest_features"
      ],
      "metadata": {
        "colab": {
          "base_uri": "https://localhost:8080/"
        },
        "id": "c7_heM64KNaU",
        "outputId": "1e9b9fc3-e0e0-426c-cf87-fad4493f7903"
      },
      "execution_count": 20,
      "outputs": [
        {
          "output_type": "execute_result",
          "data": {
            "text/plain": [
              "array([[415,  36,  23],\n",
              "       [421,  54,  14],\n",
              "       [420,  43,  34],\n",
              "       ...,\n",
              "       [421,  56,   2],\n",
              "       [424,  70,   9],\n",
              "       [420,  71,  10]])"
            ]
          },
          "metadata": {},
          "execution_count": 20
        }
      ]
    },
    {
      "cell_type": "code",
      "source": [
        "\n",
        "X_train, X_test, y_train, y_test = train_test_split(X_kbest_features, y, test_size=0.2, random_state=101)"
      ],
      "metadata": {
        "id": "cFZ8c_qtKav_"
      },
      "execution_count": 21,
      "outputs": []
    },
    {
      "cell_type": "code",
      "source": [
        "# Feature Scaling\n",
        "from sklearn.preprocessing import StandardScaler\n",
        "sc = StandardScaler()\n",
        "X_train = sc.fit_transform(X_train)\n",
        "X_test = sc.transform(X_test)"
      ],
      "metadata": {
        "id": "TmFkxBPXZw-N"
      },
      "execution_count": 22,
      "outputs": []
    },
    {
      "cell_type": "markdown",
      "source": [
        "#Classifier1: LogisticsRegression Model"
      ],
      "metadata": {
        "id": "UaNIVgCdRfWZ"
      }
    },
    {
      "cell_type": "code",
      "source": [
        "lr = LogisticRegression()\n",
        "lr.fit(X_train, y_train)"
      ],
      "metadata": {
        "colab": {
          "base_uri": "https://localhost:8080/"
        },
        "id": "mT8fze7i-SiN",
        "outputId": "9eab9fd4-72a9-44e9-88b3-3680973c15b4"
      },
      "execution_count": 23,
      "outputs": [
        {
          "output_type": "execute_result",
          "data": {
            "text/plain": [
              "LogisticRegression()"
            ]
          },
          "metadata": {},
          "execution_count": 23
        }
      ]
    },
    {
      "cell_type": "markdown",
      "source": [
        "Logistics Regression Model Evaluation"
      ],
      "metadata": {
        "id": "qgglqh-WRmq7"
      }
    },
    {
      "cell_type": "code",
      "source": [
        "# Predicting the Test set results\n",
        "y_pred = lr.predict(X_test)"
      ],
      "metadata": {
        "id": "SGpTGw2kMxlL"
      },
      "execution_count": 24,
      "outputs": []
    },
    {
      "cell_type": "code",
      "source": [
        "# y_predicted = model.predict(X_test) > 0.5\n",
        "mat = confusion_matrix(y_test, y_pred)\n",
        "labels = ['Crash', 'No Crash']\n",
        " \n",
        "sns.heatmap(mat, square=True, annot=True, fmt='d', cbar=False, cmap='Blues',\n",
        "            xticklabels=labels, yticklabels=labels)\n",
        " \n",
        "plt.xlabel('Predicted label')\n",
        "plt.ylabel('Actual label')"
      ],
      "metadata": {
        "colab": {
          "base_uri": "https://localhost:8080/",
          "height": 303
        },
        "id": "aJyv6dNUQf8j",
        "outputId": "741366dd-5bc1-4526-8559-b9a51a0dab68"
      },
      "execution_count": 27,
      "outputs": [
        {
          "output_type": "execute_result",
          "data": {
            "text/plain": [
              "Text(89.18, 0.5, 'Actual label')"
            ]
          },
          "metadata": {},
          "execution_count": 27
        },
        {
          "output_type": "display_data",
          "data": {
            "text/plain": [
              "<Figure size 432x288 with 1 Axes>"
            ],
            "image/png": "[encoded data removed]"
          },
          "metadata": {}
        }
      ]
    },
    {
      "cell_type": "code",
      "source": [
        "# Visualising the Training set results\n",
        "from matplotlib.colors import ListedColormap\n",
        "\n",
        "X = df_home.iloc[:, [3,4]].values\n",
        "y = df_home.iloc[:, 7].values\n",
        "X_train, X_test, y_train, y_test = train_test_split(X, y, test_size = 0.25, random_state = 0)\n",
        "\n",
        "lr.fit(X, y)\n",
        "X_set, y_set = X_train, y_train\n",
        "\n",
        "X1, X2 = np.meshgrid(np.arange(start = X_set[:, 0].min() - 1, stop = X_set[:, 0].max() + 1, step = 0.01),\n",
        "                     np.arange(start = X_set[:, 1].min() - 1, stop = X_set[:, 1].max() + 1, step = 0.01))\n",
        "plt.contourf(X1, X2, lr.predict(np.array([X1.ravel(), X2.ravel()]).T).reshape(X1.shape),\n",
        "             alpha = 0.75, cmap = ListedColormap(('red', 'green')))\n",
        "plt.xlim(X1.min(), X1.max())\n",
        "plt.ylim(X2.min(), X2.max())\n",
        "for i, j in enumerate(np.unique(y_set)):\n",
        "    plt.scatter(X_set[y_set == j, 0], X_set[y_set == j, 1],\n",
        "                c = ListedColormap(('red', 'green'))(i), label = j)\n",
        "plt.title('Logistic Regression (Training set)')\n",
        "plt.xlabel('Response Time')\n",
        "plt.ylabel('Category')\n",
        "plt.legend()\n",
        "plt.show()"
      ],
      "metadata": {
        "colab": {
          "base_uri": "https://localhost:8080/",
          "height": 358
        },
        "id": "jYc6wBFEv0eA",
        "outputId": "0ed4ba39-8a31-4bb7-ebf2-4d78b9777945"
      },
      "execution_count": 28,
      "outputs": [
        {
          "output_type": "stream",
          "name": "stderr",
          "text": [
            "WARNING:matplotlib.axes._axes:*c* argument looks like a single numeric RGB or RGBA sequence, which should be avoided as value-mapping will have precedence in case its length matches with *x* & *y*.  Please use the *color* keyword-argument or provide a 2-D array with a single row if you intend to specify the same RGB or RGBA value for all points.\n",
            "WARNING:matplotlib.axes._axes:*c* argument looks like a single numeric RGB or RGBA sequence, which should be avoided as value-mapping will have precedence in case its length matches with *x* & *y*.  Please use the *color* keyword-argument or provide a 2-D array with a single row if you intend to specify the same RGB or RGBA value for all points.\n"
          ]
        },
        {
          "output_type": "display_data",
          "data": {
            "text/plain": [
              "<Figure size 432x288 with 1 Axes>"
            ],
            "image/png": "[encoded data removed]"
          },
          "metadata": {}
        }
      ]
    },
    {
      "cell_type": "code",
      "source": [
        "# Visualising the Test set results\n",
        "from matplotlib.colors import ListedColormap\n",
        "\n",
        "X = df_home.iloc[:, [3,4]].values\n",
        "y = df_home.iloc[:, 7].values\n",
        "X_train, X_test, y_train, y_test = train_test_split(X, y, test_size = 0.25, random_state = 0)\n",
        "# X_set, y_set = X, y\n",
        "\n",
        "lr.fit(X, y)\n",
        "X_set, y_set = X_test, y_test\n",
        "\n",
        "X1, X2 = np.meshgrid(np.arange(start = X_set[:, 0].min() - 1, stop = X_set[:, 0].max() + 1, step = 0.01),\n",
        "                     np.arange(start = X_set[:, 1].min() - 1, stop = X_set[:, 1].max() + 1, step = 0.01))\n",
        "plt.contourf(X1, X2, lr.predict(np.array([X1.ravel(), X2.ravel()]).T).reshape(X1.shape),\n",
        "             alpha = 0.75, cmap = ListedColormap(('red', 'green')))\n",
        "plt.xlim(X1.min(), X1.max())\n",
        "plt.ylim(X2.min(), X2.max())\n",
        "for i, j in enumerate(np.unique(y_set)):\n",
        "    plt.scatter(X_set[y_set == j, 0], X_set[y_set == j, 1],\n",
        "                c = ListedColormap(('red', 'green'))(i), label = j)\n",
        "plt.title('Logistic Regression (Test set)')\n",
        "plt.xlabel('Response Time')\n",
        "plt.ylabel('Category')\n",
        "plt.legend()\n",
        "plt.show()"
      ],
      "metadata": {
        "colab": {
          "base_uri": "https://localhost:8080/",
          "height": 358
        },
        "id": "-UR-Wz3BhZjN",
        "outputId": "9a304731-c827-44d4-b94e-49c72049b560"
      },
      "execution_count": 25,
      "outputs": [
        {
          "output_type": "stream",
          "name": "stderr",
          "text": [
            "WARNING:matplotlib.axes._axes:*c* argument looks like a single numeric RGB or RGBA sequence, which should be avoided as value-mapping will have precedence in case its length matches with *x* & *y*.  Please use the *color* keyword-argument or provide a 2-D array with a single row if you intend to specify the same RGB or RGBA value for all points.\n",
            "WARNING:matplotlib.axes._axes:*c* argument looks like a single numeric RGB or RGBA sequence, which should be avoided as value-mapping will have precedence in case its length matches with *x* & *y*.  Please use the *color* keyword-argument or provide a 2-D array with a single row if you intend to specify the same RGB or RGBA value for all points.\n"
          ]
        },
        {
          "output_type": "display_data",
          "data": {
            "text/plain": [
              "<Figure size 432x288 with 1 Axes>"
            ],
            "image/png": "[encoded data removed]"
          },
          "metadata": {
            "needs_background": "light"
          }
        }
      ]
    },
    {
      "cell_type": "markdown",
      "source": [
        "#Classifier2: Decision Tree model"
      ],
      "metadata": {
        "id": "2OrSy141XtkF"
      }
    },
    {
      "cell_type": "code",
      "source": [
        "classifier = DecisionTreeClassifier(criterion = 'entropy', random_state = 0)\n",
        "classifier.fit(X_train, y_train)\n",
        "\n",
        "# Predicting the Test set results\n",
        "y_pred = classifier.predict(X_test)\n"
      ],
      "metadata": {
        "id": "ByxA9VMBQ1l3"
      },
      "execution_count": 31,
      "outputs": []
    },
    {
      "cell_type": "code",
      "source": [
        "# y_predicted = model.predict(X_test) > 0.5\n",
        "mat = confusion_matrix(y_test, y_pred)\n",
        "labels = ['Crash', 'No Crash']\n",
        " \n",
        "sns.heatmap(mat, square=True, annot=True, fmt='d', cbar=False, cmap='Blues',\n",
        "            xticklabels=labels, yticklabels=labels)\n",
        " \n",
        "plt.xlabel('Predicted label')\n",
        "plt.ylabel('Actual label')"
      ],
      "metadata": {
        "id": "vRGXADm4XE83",
        "colab": {
          "base_uri": "https://localhost:8080/",
          "height": 303
        },
        "outputId": "0311042e-50a6-4c93-f611-efb040dd6da7"
      },
      "execution_count": 32,
      "outputs": [
        {
          "output_type": "execute_result",
          "data": {
            "text/plain": [
              "Text(89.18, 0.5, 'Actual label')"
            ]
          },
          "metadata": {},
          "execution_count": 32
        },
        {
          "output_type": "display_data",
          "data": {
            "text/plain": [
              "<Figure size 432x288 with 1 Axes>"
            ],
            "image/png": "[encoded data removed]"
          },
          "metadata": {}
        }
      ]
    },
    {
      "cell_type": "markdown",
      "source": [
        "#Classifier3: NB model"
      ],
      "metadata": {
        "id": "jNwJtnOeZ8X1"
      }
    },
    {
      "cell_type": "code",
      "source": [
        "# Fitting Naive Bayes to the Training set\n",
        "classifier = GaussianNB()\n",
        "classifier.fit(X_train, y_train)\n",
        "\n",
        "# Predicting the Test set results\n",
        "y_pred = classifier.predict(X_test)\n",
        "\n"
      ],
      "metadata": {
        "id": "SeOlAPluMA6J"
      },
      "execution_count": 34,
      "outputs": []
    },
    {
      "cell_type": "code",
      "source": [
        "# y_predicted = model.predict(X_test) > 0.5\n",
        "mat = confusion_matrix(y_test, y_pred)\n",
        "labels = ['Crash', 'No Crash']\n",
        " \n",
        "sns.heatmap(mat, square=True, annot=True, fmt='d', cbar=False, cmap='Blues',\n",
        "            xticklabels=labels, yticklabels=labels)\n",
        " \n",
        "plt.xlabel('Predicted label')\n",
        "plt.ylabel('Actual label')"
      ],
      "metadata": {
        "colab": {
          "base_uri": "https://localhost:8080/",
          "height": 303
        },
        "id": "ELDRvfpFVaqn",
        "outputId": "d270b757-5017-4451-9614-2d20993cb4fc"
      },
      "execution_count": 35,
      "outputs": [
        {
          "output_type": "execute_result",
          "data": {
            "text/plain": [
              "Text(89.18, 0.5, 'Actual label')"
            ]
          },
          "metadata": {},
          "execution_count": 35
        },
        {
          "output_type": "display_data",
          "data": {
            "text/plain": [
              "<Figure size 432x288 with 1 Axes>"
            ],
            "image/png": "[encoded data removed]"
          },
          "metadata": {}
        }
      ]
    },
    {
      "cell_type": "markdown",
      "source": [
        "#Classifier4: Deep Learning Model"
      ],
      "metadata": {
        "id": "DZLpQxC5a2j2"
      }
    },
    {
      "cell_type": "code",
      "source": [
        "from keras.models import Sequential\n",
        "from keras.layers import Activation, Dense\n",
        "from keras import optimizers\n",
        "\n",
        "# X = df_home.iloc[:, [3,4]].values\n",
        "# y = df_home.iloc[:, 7].values\n",
        "# X_train, X_test, y_train, y_test = train_test_split(X, y, test_size=0.4, random_state=101)\n",
        "\n",
        "model = Sequential()\n",
        "\n",
        "# Keras model with two hidden layer with 10 neurons each \n",
        "model.add(Dense(10, input_shape = (2,)))    # Input layer => input_shape should be explicitly designated\n",
        "model.add(Activation('sigmoid'))\n",
        "model.add(Dense(10))                         # Hidden layer => only output dimension should be designated\n",
        "model.add(Activation('sigmoid'))\n",
        "model.add(Dense(10))                         # Hidden layer => only output dimension should be designated\n",
        "model.add(Activation('sigmoid'))\n",
        "model.add(Dense(1))                          # Output layer => output dimension = 1 since it is regression problem\n",
        "\n",
        "\n",
        "\n",
        "model.compile(optimizer='adam',\n",
        "              loss='binary_crossentropy',\n",
        "              metrics=['accuracy']) \n",
        "\n",
        "hist = model.fit(X_train, y_train, validation_data=(X_test, y_test),batch_size = 50, epochs = 100, verbose = 1)\n",
        "\n",
        "test_loss, test_acc = model.evaluate(X_test,  y_test, verbose=1) \n",
        "\n",
        "print('Test accuracy:', test_acc)\n",
        "print('Test loss:', test_loss)"
      ],
      "metadata": {
        "id": "wU3zV3JWXqMq",
        "colab": {
          "base_uri": "https://localhost:8080/"
        },
        "outputId": "1ccc74ce-f3c0-422b-919b-7c2bfe435766"
      },
      "execution_count": 38,
      "outputs": [
        {
          "output_type": "stream",
          "name": "stdout",
          "text": [
            "Epoch 1/100\n",
            "62/62 [==============================] - 1s 6ms/step - loss: 7.7075 - accuracy: 0.5003 - val_loss: 7.2869 - val_accuracy: 0.5276\n",
            "Epoch 2/100\n",
            "62/62 [==============================] - 0s 4ms/step - loss: 7.7075 - accuracy: 0.5003 - val_loss: 7.2869 - val_accuracy: 0.5276\n",
            "Epoch 3/100\n",
            "62/62 [==============================] - 0s 4ms/step - loss: 7.7075 - accuracy: 0.5003 - val_loss: 7.2869 - val_accuracy: 0.5276\n",
            "Epoch 4/100\n",
            "62/62 [==============================] - 0s 3ms/step - loss: 7.7075 - accuracy: 0.5003 - val_loss: 7.2869 - val_accuracy: 0.5276\n",
            "Epoch 5/100\n",
            "62/62 [==============================] - 0s 5ms/step - loss: 7.7075 - accuracy: 0.5003 - val_loss: 7.2869 - val_accuracy: 0.5276\n",
            "Epoch 6/100\n",
            "62/62 [==============================] - 0s 4ms/step - loss: 7.7075 - accuracy: 0.5003 - val_loss: 7.2869 - val_accuracy: 0.5276\n",
            "Epoch 7/100\n",
            "62/62 [==============================] - 0s 3ms/step - loss: 7.7075 - accuracy: 0.5003 - val_loss: 7.2869 - val_accuracy: 0.5276\n",
            "Epoch 8/100\n",
            "62/62 [==============================] - 0s 3ms/step - loss: 7.7075 - accuracy: 0.5003 - val_loss: 7.2869 - val_accuracy: 0.5276\n",
            "Epoch 9/100\n",
            "62/62 [==============================] - 0s 4ms/step - loss: 7.7075 - accuracy: 0.5003 - val_loss: 7.2869 - val_accuracy: 0.5276\n",
            "Epoch 10/100\n",
            "62/62 [==============================] - 0s 3ms/step - loss: 7.7075 - accuracy: 0.5003 - val_loss: 7.2869 - val_accuracy: 0.5276\n",
            "Epoch 11/100\n",
            "62/62 [==============================] - 0s 4ms/step - loss: 7.7075 - accuracy: 0.5003 - val_loss: 7.2869 - val_accuracy: 0.5276\n",
            "Epoch 12/100\n",
            "62/62 [==============================] - 0s 3ms/step - loss: 7.7075 - accuracy: 0.5003 - val_loss: 7.2869 - val_accuracy: 0.5276\n",
            "Epoch 13/100\n",
            "62/62 [==============================] - 0s 4ms/step - loss: 7.7075 - accuracy: 0.5003 - val_loss: 7.2869 - val_accuracy: 0.5276\n",
            "Epoch 14/100\n",
            "62/62 [==============================] - 0s 4ms/step - loss: 7.7075 - accuracy: 0.5003 - val_loss: 7.2869 - val_accuracy: 0.5276\n",
            "Epoch 15/100\n",
            "62/62 [==============================] - 0s 3ms/step - loss: 7.7075 - accuracy: 0.5003 - val_loss: 7.2869 - val_accuracy: 0.5276\n",
            "Epoch 16/100\n",
            "62/62 [==============================] - 0s 4ms/step - loss: 7.7075 - accuracy: 0.5003 - val_loss: 7.2869 - val_accuracy: 0.5276\n",
            "Epoch 17/100\n",
            "62/62 [==============================] - 0s 3ms/step - loss: 7.7075 - accuracy: 0.5003 - val_loss: 7.2869 - val_accuracy: 0.5276\n",
            "Epoch 18/100\n",
            "62/62 [==============================] - 0s 3ms/step - loss: 7.7075 - accuracy: 0.5003 - val_loss: 7.2869 - val_accuracy: 0.5276\n",
            "Epoch 19/100\n",
            "62/62 [==============================] - 0s 4ms/step - loss: 7.7075 - accuracy: 0.5003 - val_loss: 7.2869 - val_accuracy: 0.5276\n",
            "Epoch 20/100\n",
            "62/62 [==============================] - 0s 3ms/step - loss: 7.7075 - accuracy: 0.5003 - val_loss: 7.2869 - val_accuracy: 0.5276\n",
            "Epoch 21/100\n",
            "62/62 [==============================] - 0s 3ms/step - loss: 7.7075 - accuracy: 0.5003 - val_loss: 7.2869 - val_accuracy: 0.5276\n",
            "Epoch 22/100\n",
            "62/62 [==============================] - 0s 3ms/step - loss: 7.7075 - accuracy: 0.5003 - val_loss: 7.2869 - val_accuracy: 0.5276\n",
            "Epoch 23/100\n",
            "62/62 [==============================] - 0s 3ms/step - loss: 7.7075 - accuracy: 0.5003 - val_loss: 7.2869 - val_accuracy: 0.5276\n",
            "Epoch 24/100\n",
            "62/62 [==============================] - 0s 6ms/step - loss: 7.7075 - accuracy: 0.5003 - val_loss: 7.2869 - val_accuracy: 0.5276\n",
            "Epoch 25/100\n",
            "62/62 [==============================] - 0s 5ms/step - loss: 7.7075 - accuracy: 0.5003 - val_loss: 7.2869 - val_accuracy: 0.5276\n",
            "Epoch 26/100\n",
            "62/62 [==============================] - 0s 6ms/step - loss: 7.7075 - accuracy: 0.5003 - val_loss: 7.2869 - val_accuracy: 0.5276\n",
            "Epoch 27/100\n",
            "62/62 [==============================] - 0s 7ms/step - loss: 7.7075 - accuracy: 0.5003 - val_loss: 7.2869 - val_accuracy: 0.5276\n",
            "Epoch 28/100\n",
            "62/62 [==============================] - 0s 8ms/step - loss: 7.7075 - accuracy: 0.5003 - val_loss: 7.2869 - val_accuracy: 0.5276\n",
            "Epoch 29/100\n",
            "62/62 [==============================] - 0s 6ms/step - loss: 7.7075 - accuracy: 0.5003 - val_loss: 7.2869 - val_accuracy: 0.5276\n",
            "Epoch 30/100\n",
            "62/62 [==============================] - 0s 6ms/step - loss: 7.7075 - accuracy: 0.5003 - val_loss: 7.2869 - val_accuracy: 0.5276\n",
            "Epoch 31/100\n",
            "62/62 [==============================] - 0s 7ms/step - loss: 7.7075 - accuracy: 0.5003 - val_loss: 7.2869 - val_accuracy: 0.5276\n",
            "Epoch 32/100\n",
            "62/62 [==============================] - 0s 8ms/step - loss: 7.7075 - accuracy: 0.5003 - val_loss: 7.2869 - val_accuracy: 0.5276\n",
            "Epoch 33/100\n",
            "62/62 [==============================] - 0s 6ms/step - loss: 7.7075 - accuracy: 0.5003 - val_loss: 7.2869 - val_accuracy: 0.5276\n",
            "Epoch 34/100\n",
            "62/62 [==============================] - 0s 6ms/step - loss: 7.7075 - accuracy: 0.5003 - val_loss: 7.2869 - val_accuracy: 0.5276\n",
            "Epoch 35/100\n",
            "62/62 [==============================] - 0s 5ms/step - loss: 7.7075 - accuracy: 0.5003 - val_loss: 7.2869 - val_accuracy: 0.5276\n",
            "Epoch 36/100\n",
            "62/62 [==============================] - 0s 6ms/step - loss: 7.7075 - accuracy: 0.5003 - val_loss: 7.2869 - val_accuracy: 0.5276\n",
            "Epoch 37/100\n",
            "62/62 [==============================] - 0s 4ms/step - loss: 7.7075 - accuracy: 0.5003 - val_loss: 7.2869 - val_accuracy: 0.5276\n",
            "Epoch 38/100\n",
            "62/62 [==============================] - 0s 3ms/step - loss: 7.7075 - accuracy: 0.5003 - val_loss: 7.2869 - val_accuracy: 0.5276\n",
            "Epoch 39/100\n",
            "62/62 [==============================] - 0s 3ms/step - loss: 7.7075 - accuracy: 0.5003 - val_loss: 7.2869 - val_accuracy: 0.5276\n",
            "Epoch 40/100\n",
            "62/62 [==============================] - 0s 4ms/step - loss: 7.7075 - accuracy: 0.5003 - val_loss: 7.2869 - val_accuracy: 0.5276\n",
            "Epoch 41/100\n",
            "62/62 [==============================] - 0s 4ms/step - loss: 7.7075 - accuracy: 0.5003 - val_loss: 7.2869 - val_accuracy: 0.5276\n",
            "Epoch 42/100\n",
            "62/62 [==============================] - 0s 4ms/step - loss: 7.7075 - accuracy: 0.5003 - val_loss: 7.2869 - val_accuracy: 0.5276\n",
            "Epoch 43/100\n",
            "62/62 [==============================] - 0s 4ms/step - loss: 7.7075 - accuracy: 0.5003 - val_loss: 7.2869 - val_accuracy: 0.5276\n",
            "Epoch 44/100\n",
            "62/62 [==============================] - 0s 4ms/step - loss: 7.7075 - accuracy: 0.5003 - val_loss: 7.2869 - val_accuracy: 0.5276\n",
            "Epoch 45/100\n",
            "62/62 [==============================] - 0s 3ms/step - loss: 7.7075 - accuracy: 0.5003 - val_loss: 7.2869 - val_accuracy: 0.5276\n",
            "Epoch 46/100\n",
            "62/62 [==============================] - 0s 3ms/step - loss: 7.7075 - accuracy: 0.5003 - val_loss: 7.2869 - val_accuracy: 0.5276\n",
            "Epoch 47/100\n",
            "62/62 [==============================] - 0s 3ms/step - loss: 7.7075 - accuracy: 0.5003 - val_loss: 7.2869 - val_accuracy: 0.5276\n",
            "Epoch 48/100\n",
            "62/62 [==============================] - 0s 3ms/step - loss: 7.7075 - accuracy: 0.5003 - val_loss: 7.2869 - val_accuracy: 0.5276\n",
            "Epoch 49/100\n",
            "62/62 [==============================] - 0s 3ms/step - loss: 7.7075 - accuracy: 0.5003 - val_loss: 7.2869 - val_accuracy: 0.5276\n",
            "Epoch 50/100\n",
            "62/62 [==============================] - 0s 4ms/step - loss: 7.7075 - accuracy: 0.5003 - val_loss: 7.2869 - val_accuracy: 0.5276\n",
            "Epoch 51/100\n",
            "62/62 [==============================] - 0s 4ms/step - loss: 7.7075 - accuracy: 0.5003 - val_loss: 7.2869 - val_accuracy: 0.5276\n",
            "Epoch 52/100\n",
            "62/62 [==============================] - 0s 4ms/step - loss: 7.7075 - accuracy: 0.5003 - val_loss: 7.2869 - val_accuracy: 0.5276\n",
            "Epoch 53/100\n",
            "62/62 [==============================] - 0s 3ms/step - loss: 7.7075 - accuracy: 0.5003 - val_loss: 7.2869 - val_accuracy: 0.5276\n",
            "Epoch 54/100\n",
            "62/62 [==============================] - 0s 3ms/step - loss: 7.7075 - accuracy: 0.5003 - val_loss: 7.2869 - val_accuracy: 0.5276\n",
            "Epoch 55/100\n",
            "62/62 [==============================] - 0s 4ms/step - loss: 7.7075 - accuracy: 0.5003 - val_loss: 7.2869 - val_accuracy: 0.5276\n",
            "Epoch 56/100\n",
            "62/62 [==============================] - 0s 3ms/step - loss: 7.7075 - accuracy: 0.5003 - val_loss: 7.2869 - val_accuracy: 0.5276\n",
            "Epoch 57/100\n",
            "62/62 [==============================] - 0s 4ms/step - loss: 7.7075 - accuracy: 0.5003 - val_loss: 7.2869 - val_accuracy: 0.5276\n",
            "Epoch 58/100\n",
            "62/62 [==============================] - 0s 4ms/step - loss: 7.7075 - accuracy: 0.5003 - val_loss: 7.2869 - val_accuracy: 0.5276\n",
            "Epoch 59/100\n",
            "62/62 [==============================] - 0s 4ms/step - loss: 7.7075 - accuracy: 0.5003 - val_loss: 7.2869 - val_accuracy: 0.5276\n",
            "Epoch 60/100\n",
            "62/62 [==============================] - 0s 4ms/step - loss: 7.7075 - accuracy: 0.5003 - val_loss: 7.2869 - val_accuracy: 0.5276\n",
            "Epoch 61/100\n",
            "62/62 [==============================] - 0s 4ms/step - loss: 7.7075 - accuracy: 0.5003 - val_loss: 7.2869 - val_accuracy: 0.5276\n",
            "Epoch 62/100\n",
            "62/62 [==============================] - 0s 4ms/step - loss: 7.7075 - accuracy: 0.5003 - val_loss: 7.2869 - val_accuracy: 0.5276\n",
            "Epoch 63/100\n",
            "62/62 [==============================] - 0s 4ms/step - loss: 7.7075 - accuracy: 0.5003 - val_loss: 7.2869 - val_accuracy: 0.5276\n",
            "Epoch 64/100\n",
            "62/62 [==============================] - 0s 4ms/step - loss: 7.7075 - accuracy: 0.5003 - val_loss: 7.2869 - val_accuracy: 0.5276\n",
            "Epoch 65/100\n",
            "62/62 [==============================] - 0s 4ms/step - loss: 7.7075 - accuracy: 0.5003 - val_loss: 7.2869 - val_accuracy: 0.5276\n",
            "Epoch 66/100\n",
            "62/62 [==============================] - 0s 3ms/step - loss: 7.7075 - accuracy: 0.5003 - val_loss: 7.2869 - val_accuracy: 0.5276\n",
            "Epoch 67/100\n",
            "62/62 [==============================] - 0s 4ms/step - loss: 7.7075 - accuracy: 0.5003 - val_loss: 7.2869 - val_accuracy: 0.5276\n",
            "Epoch 68/100\n",
            "62/62 [==============================] - 0s 4ms/step - loss: 7.7075 - accuracy: 0.5003 - val_loss: 7.2869 - val_accuracy: 0.5276\n",
            "Epoch 69/100\n",
            "62/62 [==============================] - 0s 4ms/step - loss: 7.7075 - accuracy: 0.5003 - val_loss: 7.2869 - val_accuracy: 0.5276\n",
            "Epoch 70/100\n",
            "62/62 [==============================] - 0s 4ms/step - loss: 7.7075 - accuracy: 0.5003 - val_loss: 7.2869 - val_accuracy: 0.5276\n",
            "Epoch 71/100\n",
            "62/62 [==============================] - 0s 4ms/step - loss: 7.7075 - accuracy: 0.5003 - val_loss: 7.2869 - val_accuracy: 0.5276\n",
            "Epoch 72/100\n",
            "62/62 [==============================] - 0s 3ms/step - loss: 7.7075 - accuracy: 0.5003 - val_loss: 7.2869 - val_accuracy: 0.5276\n",
            "Epoch 73/100\n",
            "62/62 [==============================] - 0s 4ms/step - loss: 7.7075 - accuracy: 0.5003 - val_loss: 7.2869 - val_accuracy: 0.5276\n",
            "Epoch 74/100\n",
            "62/62 [==============================] - 0s 5ms/step - loss: 7.7075 - accuracy: 0.5003 - val_loss: 7.2869 - val_accuracy: 0.5276\n",
            "Epoch 75/100\n",
            "62/62 [==============================] - 0s 5ms/step - loss: 7.7075 - accuracy: 0.5003 - val_loss: 7.2869 - val_accuracy: 0.5276\n",
            "Epoch 76/100\n",
            "62/62 [==============================] - 0s 5ms/step - loss: 7.7075 - accuracy: 0.5003 - val_loss: 7.2869 - val_accuracy: 0.5276\n",
            "Epoch 77/100\n",
            "62/62 [==============================] - 0s 6ms/step - loss: 7.7075 - accuracy: 0.5003 - val_loss: 7.2869 - val_accuracy: 0.5276\n",
            "Epoch 78/100\n",
            "62/62 [==============================] - 0s 5ms/step - loss: 7.7075 - accuracy: 0.5003 - val_loss: 7.2869 - val_accuracy: 0.5276\n",
            "Epoch 79/100\n",
            "62/62 [==============================] - 0s 6ms/step - loss: 7.7075 - accuracy: 0.5003 - val_loss: 7.2869 - val_accuracy: 0.5276\n",
            "Epoch 80/100\n",
            "62/62 [==============================] - 0s 6ms/step - loss: 7.7075 - accuracy: 0.5003 - val_loss: 7.2869 - val_accuracy: 0.5276\n",
            "Epoch 81/100\n",
            "62/62 [==============================] - 0s 6ms/step - loss: 7.7075 - accuracy: 0.5003 - val_loss: 7.2869 - val_accuracy: 0.5276\n",
            "Epoch 82/100\n",
            "62/62 [==============================] - 0s 4ms/step - loss: 7.7075 - accuracy: 0.5003 - val_loss: 7.2869 - val_accuracy: 0.5276\n",
            "Epoch 83/100\n",
            "62/62 [==============================] - 0s 3ms/step - loss: 7.7075 - accuracy: 0.5003 - val_loss: 7.2869 - val_accuracy: 0.5276\n",
            "Epoch 84/100\n",
            "62/62 [==============================] - 0s 3ms/step - loss: 7.7075 - accuracy: 0.5003 - val_loss: 7.2869 - val_accuracy: 0.5276\n",
            "Epoch 85/100\n",
            "62/62 [==============================] - 0s 4ms/step - loss: 7.7075 - accuracy: 0.5003 - val_loss: 7.2869 - val_accuracy: 0.5276\n",
            "Epoch 86/100\n",
            "62/62 [==============================] - 0s 4ms/step - loss: 7.7075 - accuracy: 0.5003 - val_loss: 7.2869 - val_accuracy: 0.5276\n",
            "Epoch 87/100\n",
            "62/62 [==============================] - 0s 3ms/step - loss: 7.7075 - accuracy: 0.5003 - val_loss: 7.2869 - val_accuracy: 0.5276\n",
            "Epoch 88/100\n",
            "62/62 [==============================] - 0s 4ms/step - loss: 7.7075 - accuracy: 0.5003 - val_loss: 7.2869 - val_accuracy: 0.5276\n",
            "Epoch 89/100\n",
            "62/62 [==============================] - 0s 4ms/step - loss: 7.7075 - accuracy: 0.5003 - val_loss: 7.2869 - val_accuracy: 0.5276\n",
            "Epoch 90/100\n",
            "62/62 [==============================] - 0s 4ms/step - loss: 7.7075 - accuracy: 0.5003 - val_loss: 7.2869 - val_accuracy: 0.5276\n",
            "Epoch 91/100\n",
            "62/62 [==============================] - 0s 4ms/step - loss: 7.7075 - accuracy: 0.5003 - val_loss: 7.2869 - val_accuracy: 0.5276\n",
            "Epoch 92/100\n",
            "62/62 [==============================] - 0s 4ms/step - loss: 7.7075 - accuracy: 0.5003 - val_loss: 7.2869 - val_accuracy: 0.5276\n",
            "Epoch 93/100\n",
            "62/62 [==============================] - 0s 3ms/step - loss: 7.7075 - accuracy: 0.5003 - val_loss: 7.2869 - val_accuracy: 0.5276\n",
            "Epoch 94/100\n",
            "62/62 [==============================] - 0s 4ms/step - loss: 7.7075 - accuracy: 0.5003 - val_loss: 7.2869 - val_accuracy: 0.5276\n",
            "Epoch 95/100\n",
            "62/62 [==============================] - 0s 4ms/step - loss: 7.7075 - accuracy: 0.5003 - val_loss: 7.2869 - val_accuracy: 0.5276\n",
            "Epoch 96/100\n",
            "62/62 [==============================] - 0s 4ms/step - loss: 7.7075 - accuracy: 0.5003 - val_loss: 7.2869 - val_accuracy: 0.5276\n",
            "Epoch 97/100\n",
            "62/62 [==============================] - 0s 4ms/step - loss: 7.7075 - accuracy: 0.5003 - val_loss: 7.2869 - val_accuracy: 0.5276\n",
            "Epoch 98/100\n",
            "62/62 [==============================] - 0s 4ms/step - loss: 7.7075 - accuracy: 0.5003 - val_loss: 7.2869 - val_accuracy: 0.5276\n",
            "Epoch 99/100\n",
            "62/62 [==============================] - 0s 4ms/step - loss: 7.7075 - accuracy: 0.5003 - val_loss: 7.2869 - val_accuracy: 0.5276\n",
            "Epoch 100/100\n",
            "62/62 [==============================] - 0s 4ms/step - loss: 7.7075 - accuracy: 0.5003 - val_loss: 7.2869 - val_accuracy: 0.5276\n",
            "33/33 [==============================] - 0s 2ms/step - loss: 7.2869 - accuracy: 0.5276\n",
            "Test accuracy: 0.5275895595550537\n",
            "Test loss: 7.2869062423706055\n"
          ]
        }
      ]
    },
    {
      "cell_type": "code",
      "source": [
        "model.summary()\n",
        "import matplotlib.pyplot as plt\n",
        "%matplotlib inline\n",
        "import seaborn as sns\n",
        "sns.set()\n",
        " \n",
        "acc = hist.history['accuracy']\n",
        "val = hist.history['val_accuracy']\n",
        "epochs = range(1, len(acc) + 1)\n",
        " \n",
        "plt.plot(epochs, acc, '-', label='Training accuracy')\n",
        "plt.plot(epochs, val, ':', label='Validation accuracy')\n",
        "plt.title('Training and Validation Accuracy')\n",
        "plt.xlabel('Epoch')\n",
        "plt.ylabel('Accuracy')\n",
        "plt.legend(loc='lower right')\n",
        "plt.plot()"
      ],
      "metadata": {
        "id": "xq_IWaE7bFTd",
        "colab": {
          "base_uri": "https://localhost:8080/",
          "height": 744
        },
        "outputId": "f17459c2-8f2b-4884-c951-238c9e6989f0"
      },
      "execution_count": 39,
      "outputs": [
        {
          "output_type": "stream",
          "name": "stdout",
          "text": [
            "Model: \"sequential_2\"\n",
            "_________________________________________________________________\n",
            " Layer (type)                Output Shape              Param #   \n",
            "=================================================================\n",
            " dense_8 (Dense)             (None, 10)                30        \n",
            "                                                                 \n",
            " activation_6 (Activation)   (None, 10)                0         \n",
            "                                                                 \n",
            " dense_9 (Dense)             (None, 10)                110       \n",
            "                                                                 \n",
            " activation_7 (Activation)   (None, 10)                0         \n",
            "                                                                 \n",
            " dense_10 (Dense)            (None, 10)                110       \n",
            "                                                                 \n",
            " activation_8 (Activation)   (None, 10)                0         \n",
            "                                                                 \n",
            " dense_11 (Dense)            (None, 1)                 11        \n",
            "                                                                 \n",
            "=================================================================\n",
            "Total params: 261\n",
            "Trainable params: 261\n",
            "Non-trainable params: 0\n",
            "_________________________________________________________________\n"
          ]
        },
        {
          "output_type": "execute_result",
          "data": {
            "text/plain": [
              "[]"
            ]
          },
          "metadata": {},
          "execution_count": 39
        },
        {
          "output_type": "display_data",
          "data": {
            "text/plain": [
              "<Figure size 432x288 with 1 Axes>"
            ],
            "image/png": "[encoded data removed]"
          },
          "metadata": {}
        }
      ]
    }
  ]
}